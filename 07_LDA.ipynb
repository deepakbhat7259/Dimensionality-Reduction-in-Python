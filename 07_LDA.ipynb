{
  "nbformat": 4,
  "nbformat_minor": 0,
  "metadata": {
    "colab": {
      "name": "07 LDA.ipynb",
      "provenance": [],
      "collapsed_sections": [],
      "authorship_tag": "ABX9TyNNaQIso/iV/x8e1B3EbWTc",
      "include_colab_link": true
    },
    "kernelspec": {
      "name": "python3",
      "display_name": "Python 3"
    }
  },
  "cells": [
    {
      "cell_type": "markdown",
      "metadata": {
        "id": "view-in-github",
        "colab_type": "text"
      },
      "source": [
        "<a href=\"https://colab.research.google.com/github/sandipanpaul21/Dimensionality-Reduction-in-Python/blob/master/07_LDA.ipynb\" target=\"_parent\"><img src=\"https://colab.research.google.com/assets/colab-badge.svg\" alt=\"Open In Colab\"/></a>"
      ]
    },
    {
      "cell_type": "markdown",
      "metadata": {
        "id": "t165dl4DQ10Q"
      },
      "source": [
        "#### **Linear Discriminant Analysis (LDA)**\n",
        "- **PCA is an unsupervised** while **LDA is a supervised dimensionality reduction technique**.\n",
        "- PCA has no concern with the class labels. In simple words, PCA summarizes the feature set without relying on the output. PCA tries to find the directions of the maximum variance in the dataset. \n",
        "- In a large feature set, there are many features that are merely duplicate of the other features or have a high correlation with the other features. Such features are basically redundant and can be ignored. \n",
        "- The role of PCA is to find such highly correlated or duplicate features and to come up with a new feature set where there is minimum correlation between the features \n",
        "- In other words feature set with maximum variance between the features. Since the variance between the features doesn't depend upon the output,therefore PCA doesn't take the output labels into account.\n",
        "\n",
        "Unlike PCA, LDA tries to reduce dimensions of the feature set while retaining the information that discriminates output classes. \n",
        "- LDA tries to find a decision boundary around each cluster of a class. \n",
        "- It then projects the data points to new dimensions in a way that the clusters are as separate from each other as possible and the individual elements within a cluster are as close to the centroid of the cluster as possible. \n",
        "- The new dimensions are ranked on the basis of their ability to maximize the distance between the clusters and minimize the distance between the data points within a cluster and their centroids. These new dimensions form the linear discriminants of the feature set."
      ]
    },
    {
      "cell_type": "markdown",
      "metadata": {
        "id": "I6C-sRquT7b-"
      },
      "source": [
        "#### **Assumptions of LDA**\n",
        "1. Each feature (variable or dimension or attribute) in the dataset is a gaussian distribution. In other words, each feature in the dataset is shaped like a bell-shaped curve.\n",
        "2. Each feature has the same variance, the value of each feature varies around the mean with the same amount on average.\n",
        "3. Each feature is assumed to be randomly sampled.\n",
        "4. Lack of multicollinearity in independent features. Increase in correlations between independent features and the power of prediction decreases."
      ]
    },
    {
      "cell_type": "markdown",
      "metadata": {
        "id": "tSvAP7cMYsO9"
      },
      "source": [
        "#### **How LDA works**\n",
        "1. Compute the **d-dimensional mean vectors** for the different classes from the dataset.\n",
        "2. Compute the **scatter matrices** (in-between-class and within-class scatter matrix).\n",
        "3. Compute the **eigenvectors,e** (e1,e2,...,ed) and **corresponding eigenvalues,λ** (λ1,λ2,...,λd) for the scatter matrices.\n",
        "4. Sort the eigenvectors by decreasing eigenvalues and **choose k eigenvectors with the largest eigenvalues to form a d × k dimensional matrix W** (where every column represents an eigenvector).\n",
        "5. Use this **d × k eigenvector matrix** to transform the samples onto the new subspace. \n",
        "6. This can be summarized by the matrix multiplication: Y= X × W \n",
        "\n",
        "  where, X is a n × d -dimensional matrix representing the n samples and\n",
        "  y are the transformed n × k -dimensional samples in the new subspace\n",
        "\n",
        "  In other word, obtains the new features (i.e. linear discriminants) by taking the dot product of the data and the matrix (created in Step 5)\n",
        "\n"
      ]
    },
    {
      "cell_type": "markdown",
      "metadata": {
        "id": "DPOUEEz6ZfNU"
      },
      "source": [
        "#### **How to Prepare the data for LDA**\n",
        "\n",
        "1. **Outlier Treatment:** Outliers from the data should be removed, outliers will introduce skewness and in-turn computations of mean and variance will be influenced and finally, that will have an impact on LDA computations.\n",
        "\n",
        "2. **Equal Variance:** Standardization of input data, such that it has a mean 0 and a standard deviation of 1.\n",
        "\n",
        "3. **Gaussian distribution:** Univariate analysis of each input feature and if they do not exhibit the gaussian distribution transform them to look like Gaussian distribution(log and root for exponential distributions)."
      ]
    },
    {
      "cell_type": "markdown",
      "metadata": {
        "id": "33Ur5jLrzwnZ"
      },
      "source": [
        "#### **Aim of LDA**\n",
        "\n",
        "**Minimize the Inter-Class Variability:** Inter-class variability refers to including as many similar points as possible in one class. This ensures less number of misclassifications.\n",
        "\n",
        "**Maximize the Distance Between the Mean of Classes:** The classes’ mean is placed as far as possible to ensure high confidence during prediction."
      ]
    },
    {
      "cell_type": "markdown",
      "metadata": {
        "id": "Ur_9K6aI0Jlv"
      },
      "source": [
        "#### **Linear Discriminant Analysis (LDA)** \n",
        "- It searches for the projection of a dataset which maximizes the *between class scatter to within class scatter* $\\frac{S_B}{S_W}$ ratio of this projected dataset. \n",
        "- The goal is to project/transform a dataset  using a transformation matrix  such that the ratio of between class scatter to within class scatter of the transformed dataset is maximized. Hence our goal is to find the transformation matrix that accomplishes this.\n",
        "\n",
        "In Fisher's terms:\n",
        "- Find the linear combination such that the between class variance is maximized relative to the within class variance.\n",
        "- LDA aims to find the projection of maximum separability. But slowly. Consider the following illustration which shows a dataset consisting of three different classes. We now want to have the within and between class scatter of this dataset.\n",
        "\n",
        "![An Image](https://python-course.eu/images/Linear_Discriminant_Analysis_concept_illustration_800w.webp)"
      ]
    },
    {
      "cell_type": "code",
      "metadata": {
        "id": "2HITpc9EHd-2"
      },
      "source": [
        "# Libraries \n",
        "from sklearn import datasets \n",
        "import pandas as pd\n",
        "import seaborn as sns\n",
        "import numpy as np\n",
        "from sklearn.preprocessing import LabelEncoder\n",
        "import warnings\n",
        "warnings.filterwarnings(\"ignore\")\n",
        "import matplotlib.pyplot as plt\n",
        "from sklearn.discriminant_analysis import LinearDiscriminantAnalysis\n",
        "from sklearn.preprocessing import StandardScaler"
      ],
      "execution_count": 1,
      "outputs": []
    },
    {
      "cell_type": "code",
      "metadata": {
        "id": "_hSgw_mzHuwz",
        "colab": {
          "base_uri": "https://localhost:8080/",
          "height": 204
        },
        "outputId": "7bcc047f-f0b2-4f6d-f5f4-307aeda3fef8"
      },
      "source": [
        "# Step 1 \n",
        "# Importing required libraries in our Jupyter notebook\n",
        "\n",
        "# Iris Dataset for Classification\n",
        "# Load Dataset\n",
        "iris = datasets.load_iris()\n",
        "# Convert to DataFrame\n",
        "iris_pd = pd.DataFrame(iris.data)\n",
        "# Feature Name\n",
        "iris_pd.columns = iris.feature_names\n",
        "# Target Variable\n",
        "iris_pd[\"Class\"] = iris.target\n",
        "dataset = iris_pd\n",
        "dataset.head()"
      ],
      "execution_count": 2,
      "outputs": [
        {
          "output_type": "execute_result",
          "data": {
            "text/html": [
              "<div>\n",
              "<style scoped>\n",
              "    .dataframe tbody tr th:only-of-type {\n",
              "        vertical-align: middle;\n",
              "    }\n",
              "\n",
              "    .dataframe tbody tr th {\n",
              "        vertical-align: top;\n",
              "    }\n",
              "\n",
              "    .dataframe thead th {\n",
              "        text-align: right;\n",
              "    }\n",
              "</style>\n",
              "<table border=\"1\" class=\"dataframe\">\n",
              "  <thead>\n",
              "    <tr style=\"text-align: right;\">\n",
              "      <th></th>\n",
              "      <th>sepal length (cm)</th>\n",
              "      <th>sepal width (cm)</th>\n",
              "      <th>petal length (cm)</th>\n",
              "      <th>petal width (cm)</th>\n",
              "      <th>Class</th>\n",
              "    </tr>\n",
              "  </thead>\n",
              "  <tbody>\n",
              "    <tr>\n",
              "      <th>0</th>\n",
              "      <td>5.1</td>\n",
              "      <td>3.5</td>\n",
              "      <td>1.4</td>\n",
              "      <td>0.2</td>\n",
              "      <td>0</td>\n",
              "    </tr>\n",
              "    <tr>\n",
              "      <th>1</th>\n",
              "      <td>4.9</td>\n",
              "      <td>3.0</td>\n",
              "      <td>1.4</td>\n",
              "      <td>0.2</td>\n",
              "      <td>0</td>\n",
              "    </tr>\n",
              "    <tr>\n",
              "      <th>2</th>\n",
              "      <td>4.7</td>\n",
              "      <td>3.2</td>\n",
              "      <td>1.3</td>\n",
              "      <td>0.2</td>\n",
              "      <td>0</td>\n",
              "    </tr>\n",
              "    <tr>\n",
              "      <th>3</th>\n",
              "      <td>4.6</td>\n",
              "      <td>3.1</td>\n",
              "      <td>1.5</td>\n",
              "      <td>0.2</td>\n",
              "      <td>0</td>\n",
              "    </tr>\n",
              "    <tr>\n",
              "      <th>4</th>\n",
              "      <td>5.0</td>\n",
              "      <td>3.6</td>\n",
              "      <td>1.4</td>\n",
              "      <td>0.2</td>\n",
              "      <td>0</td>\n",
              "    </tr>\n",
              "  </tbody>\n",
              "</table>\n",
              "</div>"
            ],
            "text/plain": [
              "   sepal length (cm)  sepal width (cm)  ...  petal width (cm)  Class\n",
              "0                5.1               3.5  ...               0.2      0\n",
              "1                4.9               3.0  ...               0.2      0\n",
              "2                4.7               3.2  ...               0.2      0\n",
              "3                4.6               3.1  ...               0.2      0\n",
              "4                5.0               3.6  ...               0.2      0\n",
              "\n",
              "[5 rows x 5 columns]"
            ]
          },
          "metadata": {},
          "execution_count": 2
        }
      ]
    },
    {
      "cell_type": "code",
      "metadata": {
        "id": "7mXk33AWH6eJ"
      },
      "source": [
        "# Loading the dataset and separating the dependent variable and independent variable in variables \n",
        "# named as “dependentVaraible” and “independentVariables” respectively\n",
        "\n",
        "# Data Preprocessing\n",
        "independentVariables = dataset.iloc[:, 0:4].values\n",
        "dependentVariables = dataset['Class'].values\n",
        "\n",
        "# Label Encoding\n",
        "# We did Label Encoding because we have label 0\n",
        "# So many times when 0 get multiplied answer varies\n",
        "# Therefore we added +1, 0 became 1, 1 became 2, 2 became 3\n",
        "enc = LabelEncoder()\n",
        "label_encoder = enc.fit(dependentVariables)\n",
        "dependentVariables = label_encoder.transform(dependentVariables) + 1\n",
        "label_dict = {1: '0', 2: '1', 3:'2'}"
      ],
      "execution_count": 3,
      "outputs": []
    },
    {
      "cell_type": "code",
      "metadata": {
        "colab": {
          "base_uri": "https://localhost:8080/"
        },
        "id": "xkjsmHoYeORE",
        "outputId": "67231a09-4099-459b-9661-df34eb880b97"
      },
      "source": [
        "# Step 1: \n",
        "# Computing the d-dimensional mean vectors\n",
        "# In this first step, we will start off with a simple computation of the mean vectors mmi, (i=0,1,2) of the 3 different flower classes:\n",
        "# Mean vector consists of the means of each variable\n",
        "\n",
        "np.set_printoptions(precision=4)\n",
        "\n",
        "mean_vectors = []\n",
        "for cl in range(1,4):\n",
        "  mean_vectors.append(np.mean(independentVariables[dependentVariables==cl], axis=0))\n",
        "  print('Mean Vector class %s: %s\\n' %(cl, mean_vectors[cl-1]))\n",
        "\n",
        "# Inference \n",
        "# 5.006 is the Mean of Column 1 for Class 0 \n",
        "# 3.428 is the Mean of Column 2 for Class 0"
      ],
      "execution_count": 4,
      "outputs": [
        {
          "output_type": "stream",
          "name": "stdout",
          "text": [
            "Mean Vector class 1: [5.006 3.428 1.462 0.246]\n",
            "\n",
            "Mean Vector class 2: [5.936 2.77  4.26  1.326]\n",
            "\n",
            "Mean Vector class 3: [6.588 2.974 5.552 2.026]\n",
            "\n"
          ]
        }
      ]
    },
    {
      "cell_type": "code",
      "metadata": {
        "colab": {
          "base_uri": "https://localhost:8080/",
          "height": 173
        },
        "id": "2oXnvTGNxV8y",
        "outputId": "215262b0-43a5-47aa-bac7-d634c2afc7bf"
      },
      "source": [
        "# Another way to check Mean Vector of Target Class. i.e, \"Class\"\n",
        "dataset.groupby(by=[\"Class\"]).mean()"
      ],
      "execution_count": 5,
      "outputs": [
        {
          "output_type": "execute_result",
          "data": {
            "text/html": [
              "<div>\n",
              "<style scoped>\n",
              "    .dataframe tbody tr th:only-of-type {\n",
              "        vertical-align: middle;\n",
              "    }\n",
              "\n",
              "    .dataframe tbody tr th {\n",
              "        vertical-align: top;\n",
              "    }\n",
              "\n",
              "    .dataframe thead th {\n",
              "        text-align: right;\n",
              "    }\n",
              "</style>\n",
              "<table border=\"1\" class=\"dataframe\">\n",
              "  <thead>\n",
              "    <tr style=\"text-align: right;\">\n",
              "      <th></th>\n",
              "      <th>sepal length (cm)</th>\n",
              "      <th>sepal width (cm)</th>\n",
              "      <th>petal length (cm)</th>\n",
              "      <th>petal width (cm)</th>\n",
              "    </tr>\n",
              "    <tr>\n",
              "      <th>Class</th>\n",
              "      <th></th>\n",
              "      <th></th>\n",
              "      <th></th>\n",
              "      <th></th>\n",
              "    </tr>\n",
              "  </thead>\n",
              "  <tbody>\n",
              "    <tr>\n",
              "      <th>0</th>\n",
              "      <td>5.006</td>\n",
              "      <td>3.428</td>\n",
              "      <td>1.462</td>\n",
              "      <td>0.246</td>\n",
              "    </tr>\n",
              "    <tr>\n",
              "      <th>1</th>\n",
              "      <td>5.936</td>\n",
              "      <td>2.770</td>\n",
              "      <td>4.260</td>\n",
              "      <td>1.326</td>\n",
              "    </tr>\n",
              "    <tr>\n",
              "      <th>2</th>\n",
              "      <td>6.588</td>\n",
              "      <td>2.974</td>\n",
              "      <td>5.552</td>\n",
              "      <td>2.026</td>\n",
              "    </tr>\n",
              "  </tbody>\n",
              "</table>\n",
              "</div>"
            ],
            "text/plain": [
              "       sepal length (cm)  sepal width (cm)  petal length (cm)  petal width (cm)\n",
              "Class                                                                          \n",
              "0                  5.006             3.428              1.462             0.246\n",
              "1                  5.936             2.770              4.260             1.326\n",
              "2                  6.588             2.974              5.552             2.026"
            ]
          },
          "metadata": {},
          "execution_count": 5
        }
      ]
    },
    {
      "cell_type": "code",
      "metadata": {
        "colab": {
          "base_uri": "https://localhost:8080/"
        },
        "id": "8LH8PFoSuO_s",
        "outputId": "0b04079a-f17c-4991-c2a6-804d89b363a6"
      },
      "source": [
        "# Step 2\n",
        "# Computing the Scatter Matrices\n",
        "# Now, we will compute the two 4x4-dimensional matrices: The within-class and the between-class scatter matrix.\n",
        "\n",
        "S_W = np.zeros((4,4))\n",
        "for cl,mv in zip(range(1,4), mean_vectors):\n",
        "    class_sc_mat = np.zeros((4,4))                  # scatter matrix for every class\n",
        "    for row in independentVariables[dependentVariables == cl]:\n",
        "        row, mv = row.reshape(4,1), mv.reshape(4,1) # make column vectors\n",
        "        class_sc_mat += (row-mv).dot((row-mv).T)\n",
        "    S_W += class_sc_mat                             # sum class scatter matrices\n",
        "print('within-class Scatter Matrix:\\n', S_W)"
      ],
      "execution_count": 6,
      "outputs": [
        {
          "output_type": "stream",
          "name": "stdout",
          "text": [
            "within-class Scatter Matrix:\n",
            " [[38.9562 13.63   24.6246  5.645 ]\n",
            " [13.63   16.962   8.1208  4.8084]\n",
            " [24.6246  8.1208 27.2226  6.2718]\n",
            " [ 5.645   4.8084  6.2718  6.1566]]\n"
          ]
        }
      ]
    },
    {
      "cell_type": "code",
      "metadata": {
        "colab": {
          "base_uri": "https://localhost:8080/"
        },
        "id": "YsWT36AFuzy1",
        "outputId": "65a29000-75ae-471a-bc3b-1007610cbebd"
      },
      "source": [
        "overall_mean = np.mean(independentVariables, axis=0)\n",
        "\n",
        "S_B = np.zeros((4,4))\n",
        "for i,mean_vec in enumerate(mean_vectors):  \n",
        "    n = independentVariables[dependentVariables==i+1,:].shape[0]\n",
        "    mean_vec = mean_vec.reshape(4,1) # make column vector\n",
        "    overall_mean = overall_mean.reshape(4,1) # make column vector\n",
        "    S_B += n * (mean_vec - overall_mean).dot((mean_vec - overall_mean).T)\n",
        "\n",
        "print('between-class Scatter Matrix:\\n', S_B)"
      ],
      "execution_count": 7,
      "outputs": [
        {
          "output_type": "stream",
          "name": "stdout",
          "text": [
            "between-class Scatter Matrix:\n",
            " [[ 63.2121 -19.9527 165.2484  71.2793]\n",
            " [-19.9527  11.3449 -57.2396 -22.9327]\n",
            " [165.2484 -57.2396 437.1028 186.774 ]\n",
            " [ 71.2793 -22.9327 186.774   80.4133]]\n"
          ]
        }
      ]
    },
    {
      "cell_type": "code",
      "metadata": {
        "colab": {
          "base_uri": "https://localhost:8080/"
        },
        "id": "RVJ89ifSvDJl",
        "outputId": "6a46e2aa-14e9-4af7-83d9-8bc34ee81f68"
      },
      "source": [
        "# Step 3\n",
        "# Find Eigen Value And Eigen Vector for within-class Scatter Matrix and between-class Scatter Matrix \n",
        "# It's 4*4 so we will have 4 eigen values and 4 corresponding matrix\n",
        "\n",
        "eig_vals, eig_vecs = np.linalg.eig(np.linalg.inv(S_W).dot(S_B))\n",
        "\n",
        "for i in range(len(eig_vals)):\n",
        "    eigvec_sc = eig_vecs[:,i].reshape(4,1)   \n",
        "    print('\\nEigenvector {}: \\n{}'.format(i+1, eigvec_sc.real))\n",
        "    print('Eigenvalue {:}: {:.2e}'.format(i+1, eig_vals[i].real))"
      ],
      "execution_count": 8,
      "outputs": [
        {
          "output_type": "stream",
          "name": "stdout",
          "text": [
            "\n",
            "Eigenvector 1: \n",
            "[[ 0.2087]\n",
            " [ 0.3862]\n",
            " [-0.554 ]\n",
            " [-0.7074]]\n",
            "Eigenvalue 1: 3.22e+01\n",
            "\n",
            "Eigenvector 2: \n",
            "[[-0.0065]\n",
            " [-0.5866]\n",
            " [ 0.2526]\n",
            " [-0.7695]]\n",
            "Eigenvalue 2: 2.85e-01\n",
            "\n",
            "Eigenvector 3: \n",
            "[[ 0.885 ]\n",
            " [-0.2977]\n",
            " [-0.2764]\n",
            " [-0.2274]]\n",
            "Eigenvalue 3: -1.74e-15\n",
            "\n",
            "Eigenvector 4: \n",
            "[[-0.2137]\n",
            " [ 0.397 ]\n",
            " [ 0.4597]\n",
            " [-0.7651]]\n",
            "Eigenvalue 4: -9.15e-15\n"
          ]
        }
      ]
    },
    {
      "cell_type": "code",
      "metadata": {
        "colab": {
          "base_uri": "https://localhost:8080/"
        },
        "id": "p4002D-jvMYF",
        "outputId": "4737d972-4363-4859-c002-31a5d43e805c"
      },
      "source": [
        "# Step 4\n",
        "# Selecting linear discriminants for the new feature subspace\n",
        "# The eigenvectors with the lowest eigenvalues bear the least information about the distribution of the data, \n",
        "# and those are the ones we want to drop.\n",
        "# The common approach is to rank the eigenvectors from highest to lowest corresponding eigenvalue and choose the top k eigenvectors.\n",
        "\n",
        "# 4.1. Sorting the eigenvectors by decreasing eigenvalues\n",
        "# Make a list of (eigenvalue, eigenvector) tuples\n",
        "eig_pairs = [(np.abs(eig_vals[i]), eig_vecs[:,i]) for i in range(len(eig_vals))]\n",
        "\n",
        "# Sort the (eigenvalue, eigenvector) tuples from high to low\n",
        "eig_pairs = sorted(eig_pairs, key=lambda k: k[0], reverse=True)\n",
        "\n",
        "# Visually confirm that the list is correctly sorted by decreasing eigenvalues\n",
        "print('Eigenvalues in decreasing order:\\n')\n",
        "for i in eig_pairs:\n",
        "    print(i[0])"
      ],
      "execution_count": 9,
      "outputs": [
        {
          "output_type": "stream",
          "name": "stdout",
          "text": [
            "Eigenvalues in decreasing order:\n",
            "\n",
            "32.19192919827802\n",
            "0.2853910426230726\n",
            "9.153009723648236e-15\n",
            "1.741606802500899e-15\n"
          ]
        }
      ]
    },
    {
      "cell_type": "code",
      "metadata": {
        "colab": {
          "base_uri": "https://localhost:8080/"
        },
        "id": "nJE1W9sovN3Z",
        "outputId": "1484d298-0bab-4de5-b415-93822de269fb"
      },
      "source": [
        "# 4.2. \n",
        "# “explained variance” as percentage:\n",
        "\n",
        "print('Variance explained:\\n')\n",
        "eigv_sum = sum(eig_vals)\n",
        "for i,j in enumerate(eig_pairs):\n",
        "    print('eigenvalue {0:}: {1:.2%}'.format(i+1, (j[0]/eigv_sum).real))\n",
        "\n",
        "# Inference\n",
        "# The first eigenpair is by far the most informative one, \n",
        "# and we won’t loose much information if we would form a 1D-feature spaced based on this eigenpair."
      ],
      "execution_count": 10,
      "outputs": [
        {
          "output_type": "stream",
          "name": "stdout",
          "text": [
            "Variance explained:\n",
            "\n",
            "eigenvalue 1: 99.12%\n",
            "eigenvalue 2: 0.88%\n",
            "eigenvalue 3: 0.00%\n",
            "eigenvalue 4: 0.00%\n"
          ]
        }
      ]
    },
    {
      "cell_type": "code",
      "metadata": {
        "colab": {
          "base_uri": "https://localhost:8080/"
        },
        "id": "vEi8EcX-vQmJ",
        "outputId": "bc6c0f2d-44ae-44ad-a599-3a65a360776e"
      },
      "source": [
        "# 4.3. \n",
        "# Choosing k eigenvectors with the largest eigenvalues\n",
        "# After sorting the eigenpairs by decreasing eigenvalues, \n",
        "# it is now time to construct our d×k-dimensional eigenvector matrix WW \n",
        "# here 4×2: based on the 2 most informative eigenpairs\n",
        "# and thereby reducing the initial 4-dimensional feature space into a 2-dimensional feature subspace.\n",
        "\n",
        "W = np.hstack((eig_pairs[0][1].reshape(4,1), eig_pairs[1][1].reshape(4,1)))\n",
        "print('Matrix W:\\n', W.real)"
      ],
      "execution_count": 11,
      "outputs": [
        {
          "output_type": "stream",
          "name": "stdout",
          "text": [
            "Matrix W:\n",
            " [[ 0.2087 -0.0065]\n",
            " [ 0.3862 -0.5866]\n",
            " [-0.554   0.2526]\n",
            " [-0.7074 -0.7695]]\n"
          ]
        }
      ]
    },
    {
      "cell_type": "code",
      "metadata": {
        "colab": {
          "base_uri": "https://localhost:8080/"
        },
        "id": "LDi6fSxLB1UR",
        "outputId": "e58182aa-6012-4669-9cd2-063499bc63e0"
      },
      "source": [
        "# Step 5\n",
        "# Transforming the samples onto the new subspace\n",
        "# In the last step, we use the 4×2-dimensional matrix W \n",
        "# that we just computed to transform our samples onto the new subspace via the equation\n",
        "# Y= X × W.\n",
        "# where X is a n × d - dimensional matrix representing the n samples\n",
        "# Y are the transformed n×k-dimensional samples in the new subspace.\n",
        "\n",
        "X_lda = independentVariables.dot(W)\n",
        "assert X_lda.shape == (150,2), \"The matrix is not 150x2 dimensional.\"\n",
        "print(\"New IRIS Dataset reduced to 2 Dimension (top 10 rows)\")\n",
        "print(X_lda[:10])"
      ],
      "execution_count": 12,
      "outputs": [
        {
          "output_type": "stream",
          "name": "stdout",
          "text": [
            "New IRIS Dataset reduced to 2 Dimension (top 10 rows)\n",
            "[[ 1.4992 -1.8868]\n",
            " [ 1.2644 -1.5921]\n",
            " [ 1.3553 -1.7334]\n",
            " [ 1.185  -1.6236]\n",
            " [ 1.517  -1.9448]\n",
            " [ 1.4086 -2.2015]\n",
            " [ 1.2855 -1.9018]\n",
            " [ 1.3843 -1.8022]\n",
            " [ 1.1214 -1.5302]\n",
            " [ 1.3183 -1.5486]]\n"
          ]
        }
      ]
    },
    {
      "cell_type": "code",
      "metadata": {
        "colab": {
          "base_uri": "https://localhost:8080/"
        },
        "id": "lcEqTtSTFEUA",
        "outputId": "d312bdba-b6ea-436a-ec93-3450709e2ab6"
      },
      "source": [
        "# Step 6\n",
        "# LDA Iris Dataset\n",
        "\n",
        "data=pd.DataFrame(X_lda)\n",
        "data['class']=dependentVariables\n",
        "data.columns=[\"LD1\",\"LD2\",\"class\"]\n",
        "print(\"New LDA IRIS Dataset\")\n",
        "print(data.head())"
      ],
      "execution_count": 13,
      "outputs": [
        {
          "output_type": "stream",
          "name": "stdout",
          "text": [
            "New LDA IRIS Dataset\n",
            "        LD1       LD2  class\n",
            "0  1.499210 -1.886754      1\n",
            "1  1.264360 -1.592143      1\n",
            "2  1.355253 -1.733415      1\n",
            "3  1.184956 -1.623588      1\n",
            "4  1.516956 -1.944762      1\n"
          ]
        }
      ]
    },
    {
      "cell_type": "code",
      "metadata": {
        "colab": {
          "base_uri": "https://localhost:8080/",
          "height": 385
        },
        "id": "Fdv4PZ62LmGG",
        "outputId": "5b7edf20-3163-4ff9-8dbe-d4e5323100dd"
      },
      "source": [
        "# Plotting the LDA\n",
        "\n",
        "markers = ['s', 'x','o']\n",
        "colors = ['r', 'b','g']\n",
        "sns.lmplot(x=\"LD1\", y=\"LD2\", data=data, hue='class', markers=markers,fit_reg=False,legend=False)\n",
        "plt.legend(loc='upper center')\n",
        "plt.title('LDA Step by Step Plot')\n",
        "plt.show()"
      ],
      "execution_count": 14,
      "outputs": [
        {
          "output_type": "display_data",
          "data": {
            "image/png": "[encoded data removed]",
            "text/plain": [
              "<Figure size 360x360 with 1 Axes>"
            ]
          },
          "metadata": {
            "needs_background": "light"
          }
        }
      ]
    },
    {
      "cell_type": "code",
      "metadata": {
        "colab": {
          "base_uri": "https://localhost:8080/"
        },
        "id": "u1dEJ6QbFzMi",
        "outputId": "911f63d0-e231-4849-8aa3-36b24dad4b05"
      },
      "source": [
        "# LDA Through Python\n",
        "\n",
        "# Perform standard scaling on model features\n",
        "scaler=StandardScaler()\n",
        "X_std=scaler.fit_transform(independentVariables)\n",
        "\n",
        "# Fit LDA\n",
        "lda = LinearDiscriminantAnalysis(n_components=2,solver='eigen')\n",
        "lda"
      ],
      "execution_count": 15,
      "outputs": [
        {
          "output_type": "execute_result",
          "data": {
            "text/plain": [
              "LinearDiscriminantAnalysis(n_components=2, priors=None, shrinkage=None,\n",
              "                           solver='eigen', store_covariance=False, tol=0.0001)"
            ]
          },
          "metadata": {},
          "execution_count": 15
        }
      ]
    },
    {
      "cell_type": "code",
      "metadata": {
        "colab": {
          "base_uri": "https://localhost:8080/"
        },
        "id": "MB7y0yEbKXI8",
        "outputId": "a171f38b-9591-4e19-c7fa-eaf14449d88f"
      },
      "source": [
        "# LDA IRIS Dataset \n",
        "\n",
        "X_train_lda = lda.fit_transform(X_std, dependentVariables)\n",
        "data=pd.DataFrame(X_train_lda)\n",
        "data['class']=dependentVariables\n",
        "data.columns=[\"LD1\",\"LD2\",\"class\"]\n",
        "print(\"New LDA IRIS Dataset\")\n",
        "print(data.head())"
      ],
      "execution_count": 16,
      "outputs": [
        {
          "output_type": "stream",
          "name": "stdout",
          "text": [
            "New LDA IRIS Dataset\n",
            "        LD1       LD2  class\n",
            "0  8.143648  0.303471      1\n",
            "1  7.201062 -0.794647      1\n",
            "2  7.565869 -0.268079      1\n",
            "3  6.882372 -0.677440      1\n",
            "4  8.214873  0.519686      1\n"
          ]
        }
      ]
    },
    {
      "cell_type": "code",
      "metadata": {
        "colab": {
          "base_uri": "https://localhost:8080/",
          "height": 383
        },
        "id": "mEojfGmrLNgi",
        "outputId": "74c1fb7d-8f02-4268-bbc9-cf5321cec1a3"
      },
      "source": [
        "# Plotting the LDA\n",
        "\n",
        "markers = ['s', 'x','o']\n",
        "colors = ['r', 'b','g']\n",
        "sns.lmplot(x=\"LD1\", y=\"LD2\", data=data, hue='class', markers=markers,fit_reg=False,legend=False)\n",
        "plt.legend(loc='upper center')\n",
        "plt.title('LDA Library Plot')\n",
        "plt.show()\n",
        "\n",
        "# Inference \n",
        "# Both Step by Step and Library gave similar plot\n",
        "# Only the plot got flipped upside down\n",
        "# And the scale got changed"
      ],
      "execution_count": 17,
      "outputs": [
        {
          "output_type": "display_data",
          "data": {
            "image/png": "[encoded data removed]",
            "text/plain": [
              "<Figure size 360x360 with 1 Axes>"
            ]
          },
          "metadata": {
            "needs_background": "light"
          }
        }
      ]
    }
  ]
}